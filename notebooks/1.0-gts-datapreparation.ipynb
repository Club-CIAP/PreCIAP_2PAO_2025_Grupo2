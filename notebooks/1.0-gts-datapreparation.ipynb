{
 "cells": [
  {
   "cell_type": "code",
   "execution_count": 13,
   "id": "ce947f02",
   "metadata": {},
   "outputs": [
    {
     "name": "stdout",
     "output_type": "stream",
     "text": [
      "The autoreload extension is already loaded. To reload it, use:\n",
      "  %reload_ext autoreload\n"
     ]
    }
   ],
   "source": [
    "%load_ext autoreload\n",
    "%autoreload 2"
   ]
  },
  {
   "cell_type": "code",
   "execution_count": null,
   "id": "ee90bb35",
   "metadata": {},
   "outputs": [],
   "source": [
    "#carga inicial del dataset\n",
    "\n",
    "import pandas as pd\n",
    "from housing_price_prediction.utils.paths import data_raw_dir\n",
    "\n",
    "train_path = data_raw_dir() / \"train.csv\"\n",
    "df = pd.read_csv(train_path)\n",
    "\n",
    "df.info()"
   ]
  },
  {
   "cell_type": "code",
   "execution_count": 7,
   "id": "aa9295a2",
   "metadata": {},
   "outputs": [
    {
     "name": "stdout",
     "output_type": "stream",
     "text": [
      "Alley\n",
      "NaN     1369\n",
      "Grvl      50\n",
      "Pave      41\n",
      "Name: count, dtype: int64\n",
      "Alley\n",
      "None    1369\n",
      "Grvl      50\n",
      "Pave      41\n",
      "Name: count, dtype: int64\n"
     ]
    }
   ],
   "source": [
    "#Primero se deberia experimentar con el dataset, si funciona lo pasamos al codigo reutilizable en housing_price_prediction\n",
    "#las celdas deberian usar funciones de python.\n",
    "\n",
    "print(df['Alley'].value_counts(dropna=False))\n",
    "\n",
    "df_prueba = df.copy()\n",
    "df_prueba['Alley'] = df_prueba['Alley'].fillna('None')\n",
    "\n",
    "print(df_prueba['Alley'].value_counts(dropna=False))"
   ]
  },
  {
   "cell_type": "code",
   "execution_count": 17,
   "id": "ac55c383",
   "metadata": {},
   "outputs": [
    {
     "name": "stdout",
     "output_type": "stream",
     "text": [
      "Alley\n",
      "None    1369\n",
      "Grvl      50\n",
      "Pave      41\n",
      "Name: count, dtype: int64\n"
     ]
    }
   ],
   "source": [
    "#aqui llamamos al modulo para obtener la funcion\n",
    "\n",
    "from housing_price_prediction.clean_gatumbac import clean_alley_nulls\n",
    "\n",
    "df_clean = clean_alley_nulls(df)\n",
    "print(df_clean['Alley'].value_counts(dropna=False))"
   ]
  }
 ],
 "metadata": {
  "kernelspec": {
   "display_name": ".venv",
   "language": "python",
   "name": "python3"
  },
  "language_info": {
   "codemirror_mode": {
    "name": "ipython",
    "version": 3
   },
   "file_extension": ".py",
   "mimetype": "text/x-python",
   "name": "python",
   "nbconvert_exporter": "python",
   "pygments_lexer": "ipython3",
   "version": "3.13.7"
  }
 },
 "nbformat": 4,
 "nbformat_minor": 5
}
