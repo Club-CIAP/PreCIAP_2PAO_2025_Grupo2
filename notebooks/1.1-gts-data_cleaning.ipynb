{
 "cells": [
  {
   "cell_type": "markdown",
   "id": "7b435d0d",
   "metadata": {},
   "source": [
    "# Notebook de experimentación - Gabriel Tumbaco"
   ]
  },
  {
   "cell_type": "code",
   "execution_count": 1,
   "id": "acf819ce",
   "metadata": {},
   "outputs": [],
   "source": [
    "%load_ext autoreload\n",
    "%autoreload 2"
   ]
  },
  {
   "cell_type": "code",
   "execution_count": 54,
   "id": "4dd2cad8",
   "metadata": {},
   "outputs": [],
   "source": [
    "import pandas as pd\n",
    "import matplotlib.pyplot as plt\n",
    "import seaborn as sns\n",
    "\n",
    "from housing_price_prediction.utils.paths import data_raw_dir\n",
    "from housing_price_prediction.utils.paths import data_interim_dir\n",
    "\n",
    "train_path = data_raw_dir() / \"train.csv\"\n",
    "df_raw = pd.read_csv(train_path)"
   ]
  },
  {
   "cell_type": "markdown",
   "id": "e126434f",
   "metadata": {},
   "source": [
    "## Exploracion y limpieza de las siguientes variables\n",
    "\n",
    "Variables que describen el terreno, la ubicación y el tipo general de la propiedad.\n",
    "\n",
    "- MSSubClass\n",
    "- MSZoning\n",
    "- LotFrontage\n",
    "- LotArea\n",
    "- Street\n",
    "- Alley\n",
    "- LotShape\n",
    "- LandContour\n",
    "- Utilities\n",
    "- LotConfig\n",
    "- LandSlope\n",
    "- Neighborhood\n",
    "- Condition1\n",
    "- Condition2\n",
    "- BldgType\n",
    "- HouseStyle"
   ]
  },
  {
   "cell_type": "markdown",
   "id": "5b060b32",
   "metadata": {},
   "source": [
    "**Experimentacion con el dataset**"
   ]
  },
  {
   "cell_type": "code",
   "execution_count": 55,
   "id": "3f35e3e8",
   "metadata": {},
   "outputs": [],
   "source": [
    "vars = [\n",
    "    'MSSubClass', 'MSZoning', 'LotFrontage', 'LotArea', 'Street', \n",
    "    'Alley', 'LotShape', 'LandContour', 'Utilities', 'LotConfig', \n",
    "    'LandSlope', 'Neighborhood', 'Condition1', 'Condition2', \n",
    "    'BldgType', 'HouseStyle', 'SalePrice' \n",
    "]\n",
    "\n",
    "df = df_raw[vars].copy()"
   ]
  },
  {
   "cell_type": "code",
   "execution_count": 56,
   "id": "79fd2de1",
   "metadata": {},
   "outputs": [
    {
     "name": "stdout",
     "output_type": "stream",
     "text": [
      "(1460, 17)\n",
      "<class 'pandas.core.frame.DataFrame'>\n",
      "RangeIndex: 1460 entries, 0 to 1459\n",
      "Data columns (total 17 columns):\n",
      " #   Column        Non-Null Count  Dtype  \n",
      "---  ------        --------------  -----  \n",
      " 0   MSSubClass    1460 non-null   int64  \n",
      " 1   MSZoning      1460 non-null   object \n",
      " 2   LotFrontage   1201 non-null   float64\n",
      " 3   LotArea       1460 non-null   int64  \n",
      " 4   Street        1460 non-null   object \n",
      " 5   Alley         91 non-null     object \n",
      " 6   LotShape      1460 non-null   object \n",
      " 7   LandContour   1460 non-null   object \n",
      " 8   Utilities     1460 non-null   object \n",
      " 9   LotConfig     1460 non-null   object \n",
      " 10  LandSlope     1460 non-null   object \n",
      " 11  Neighborhood  1460 non-null   object \n",
      " 12  Condition1    1460 non-null   object \n",
      " 13  Condition2    1460 non-null   object \n",
      " 14  BldgType      1460 non-null   object \n",
      " 15  HouseStyle    1460 non-null   object \n",
      " 16  SalePrice     1460 non-null   int64  \n",
      "dtypes: float64(1), int64(3), object(13)\n",
      "memory usage: 194.0+ KB\n"
     ]
    }
   ],
   "source": [
    "print(df.shape)\n",
    "df.info()"
   ]
  },
  {
   "cell_type": "markdown",
   "id": "3aa28c0f",
   "metadata": {},
   "source": [
    "# Limpieza de las variables"
   ]
  },
  {
   "cell_type": "code",
   "execution_count": 57,
   "id": "e417f347",
   "metadata": {},
   "outputs": [
    {
     "data": {
      "text/html": [
       "<div>\n",
       "<style scoped>\n",
       "    .dataframe tbody tr th:only-of-type {\n",
       "        vertical-align: middle;\n",
       "    }\n",
       "\n",
       "    .dataframe tbody tr th {\n",
       "        vertical-align: top;\n",
       "    }\n",
       "\n",
       "    .dataframe thead th {\n",
       "        text-align: right;\n",
       "    }\n",
       "</style>\n",
       "<table border=\"1\" class=\"dataframe\">\n",
       "  <thead>\n",
       "    <tr style=\"text-align: right;\">\n",
       "      <th></th>\n",
       "      <th>MSSubClass</th>\n",
       "      <th>MSZoning</th>\n",
       "      <th>LotFrontage</th>\n",
       "      <th>LotArea</th>\n",
       "      <th>Street</th>\n",
       "      <th>Alley</th>\n",
       "      <th>LotShape</th>\n",
       "      <th>LandContour</th>\n",
       "      <th>Utilities</th>\n",
       "      <th>LotConfig</th>\n",
       "      <th>LandSlope</th>\n",
       "      <th>Neighborhood</th>\n",
       "      <th>Condition1</th>\n",
       "      <th>Condition2</th>\n",
       "      <th>BldgType</th>\n",
       "      <th>HouseStyle</th>\n",
       "      <th>SalePrice</th>\n",
       "    </tr>\n",
       "  </thead>\n",
       "  <tbody>\n",
       "    <tr>\n",
       "      <th>0</th>\n",
       "      <td>False</td>\n",
       "      <td>False</td>\n",
       "      <td>False</td>\n",
       "      <td>False</td>\n",
       "      <td>False</td>\n",
       "      <td>True</td>\n",
       "      <td>False</td>\n",
       "      <td>False</td>\n",
       "      <td>False</td>\n",
       "      <td>False</td>\n",
       "      <td>False</td>\n",
       "      <td>False</td>\n",
       "      <td>False</td>\n",
       "      <td>False</td>\n",
       "      <td>False</td>\n",
       "      <td>False</td>\n",
       "      <td>False</td>\n",
       "    </tr>\n",
       "    <tr>\n",
       "      <th>1</th>\n",
       "      <td>False</td>\n",
       "      <td>False</td>\n",
       "      <td>False</td>\n",
       "      <td>False</td>\n",
       "      <td>False</td>\n",
       "      <td>True</td>\n",
       "      <td>False</td>\n",
       "      <td>False</td>\n",
       "      <td>False</td>\n",
       "      <td>False</td>\n",
       "      <td>False</td>\n",
       "      <td>False</td>\n",
       "      <td>False</td>\n",
       "      <td>False</td>\n",
       "      <td>False</td>\n",
       "      <td>False</td>\n",
       "      <td>False</td>\n",
       "    </tr>\n",
       "    <tr>\n",
       "      <th>2</th>\n",
       "      <td>False</td>\n",
       "      <td>False</td>\n",
       "      <td>False</td>\n",
       "      <td>False</td>\n",
       "      <td>False</td>\n",
       "      <td>True</td>\n",
       "      <td>False</td>\n",
       "      <td>False</td>\n",
       "      <td>False</td>\n",
       "      <td>False</td>\n",
       "      <td>False</td>\n",
       "      <td>False</td>\n",
       "      <td>False</td>\n",
       "      <td>False</td>\n",
       "      <td>False</td>\n",
       "      <td>False</td>\n",
       "      <td>False</td>\n",
       "    </tr>\n",
       "    <tr>\n",
       "      <th>3</th>\n",
       "      <td>False</td>\n",
       "      <td>False</td>\n",
       "      <td>False</td>\n",
       "      <td>False</td>\n",
       "      <td>False</td>\n",
       "      <td>True</td>\n",
       "      <td>False</td>\n",
       "      <td>False</td>\n",
       "      <td>False</td>\n",
       "      <td>False</td>\n",
       "      <td>False</td>\n",
       "      <td>False</td>\n",
       "      <td>False</td>\n",
       "      <td>False</td>\n",
       "      <td>False</td>\n",
       "      <td>False</td>\n",
       "      <td>False</td>\n",
       "    </tr>\n",
       "    <tr>\n",
       "      <th>4</th>\n",
       "      <td>False</td>\n",
       "      <td>False</td>\n",
       "      <td>False</td>\n",
       "      <td>False</td>\n",
       "      <td>False</td>\n",
       "      <td>True</td>\n",
       "      <td>False</td>\n",
       "      <td>False</td>\n",
       "      <td>False</td>\n",
       "      <td>False</td>\n",
       "      <td>False</td>\n",
       "      <td>False</td>\n",
       "      <td>False</td>\n",
       "      <td>False</td>\n",
       "      <td>False</td>\n",
       "      <td>False</td>\n",
       "      <td>False</td>\n",
       "    </tr>\n",
       "    <tr>\n",
       "      <th>...</th>\n",
       "      <td>...</td>\n",
       "      <td>...</td>\n",
       "      <td>...</td>\n",
       "      <td>...</td>\n",
       "      <td>...</td>\n",
       "      <td>...</td>\n",
       "      <td>...</td>\n",
       "      <td>...</td>\n",
       "      <td>...</td>\n",
       "      <td>...</td>\n",
       "      <td>...</td>\n",
       "      <td>...</td>\n",
       "      <td>...</td>\n",
       "      <td>...</td>\n",
       "      <td>...</td>\n",
       "      <td>...</td>\n",
       "      <td>...</td>\n",
       "    </tr>\n",
       "    <tr>\n",
       "      <th>1455</th>\n",
       "      <td>False</td>\n",
       "      <td>False</td>\n",
       "      <td>False</td>\n",
       "      <td>False</td>\n",
       "      <td>False</td>\n",
       "      <td>True</td>\n",
       "      <td>False</td>\n",
       "      <td>False</td>\n",
       "      <td>False</td>\n",
       "      <td>False</td>\n",
       "      <td>False</td>\n",
       "      <td>False</td>\n",
       "      <td>False</td>\n",
       "      <td>False</td>\n",
       "      <td>False</td>\n",
       "      <td>False</td>\n",
       "      <td>False</td>\n",
       "    </tr>\n",
       "    <tr>\n",
       "      <th>1456</th>\n",
       "      <td>False</td>\n",
       "      <td>False</td>\n",
       "      <td>False</td>\n",
       "      <td>False</td>\n",
       "      <td>False</td>\n",
       "      <td>True</td>\n",
       "      <td>False</td>\n",
       "      <td>False</td>\n",
       "      <td>False</td>\n",
       "      <td>False</td>\n",
       "      <td>False</td>\n",
       "      <td>False</td>\n",
       "      <td>False</td>\n",
       "      <td>False</td>\n",
       "      <td>False</td>\n",
       "      <td>False</td>\n",
       "      <td>False</td>\n",
       "    </tr>\n",
       "    <tr>\n",
       "      <th>1457</th>\n",
       "      <td>False</td>\n",
       "      <td>False</td>\n",
       "      <td>False</td>\n",
       "      <td>False</td>\n",
       "      <td>False</td>\n",
       "      <td>True</td>\n",
       "      <td>False</td>\n",
       "      <td>False</td>\n",
       "      <td>False</td>\n",
       "      <td>False</td>\n",
       "      <td>False</td>\n",
       "      <td>False</td>\n",
       "      <td>False</td>\n",
       "      <td>False</td>\n",
       "      <td>False</td>\n",
       "      <td>False</td>\n",
       "      <td>False</td>\n",
       "    </tr>\n",
       "    <tr>\n",
       "      <th>1458</th>\n",
       "      <td>False</td>\n",
       "      <td>False</td>\n",
       "      <td>False</td>\n",
       "      <td>False</td>\n",
       "      <td>False</td>\n",
       "      <td>True</td>\n",
       "      <td>False</td>\n",
       "      <td>False</td>\n",
       "      <td>False</td>\n",
       "      <td>False</td>\n",
       "      <td>False</td>\n",
       "      <td>False</td>\n",
       "      <td>False</td>\n",
       "      <td>False</td>\n",
       "      <td>False</td>\n",
       "      <td>False</td>\n",
       "      <td>False</td>\n",
       "    </tr>\n",
       "    <tr>\n",
       "      <th>1459</th>\n",
       "      <td>False</td>\n",
       "      <td>False</td>\n",
       "      <td>False</td>\n",
       "      <td>False</td>\n",
       "      <td>False</td>\n",
       "      <td>True</td>\n",
       "      <td>False</td>\n",
       "      <td>False</td>\n",
       "      <td>False</td>\n",
       "      <td>False</td>\n",
       "      <td>False</td>\n",
       "      <td>False</td>\n",
       "      <td>False</td>\n",
       "      <td>False</td>\n",
       "      <td>False</td>\n",
       "      <td>False</td>\n",
       "      <td>False</td>\n",
       "    </tr>\n",
       "  </tbody>\n",
       "</table>\n",
       "<p>1460 rows × 17 columns</p>\n",
       "</div>"
      ],
      "text/plain": [
       "      MSSubClass  MSZoning  LotFrontage  LotArea  Street  Alley  LotShape  \\\n",
       "0          False     False        False    False   False   True     False   \n",
       "1          False     False        False    False   False   True     False   \n",
       "2          False     False        False    False   False   True     False   \n",
       "3          False     False        False    False   False   True     False   \n",
       "4          False     False        False    False   False   True     False   \n",
       "...          ...       ...          ...      ...     ...    ...       ...   \n",
       "1455       False     False        False    False   False   True     False   \n",
       "1456       False     False        False    False   False   True     False   \n",
       "1457       False     False        False    False   False   True     False   \n",
       "1458       False     False        False    False   False   True     False   \n",
       "1459       False     False        False    False   False   True     False   \n",
       "\n",
       "      LandContour  Utilities  LotConfig  LandSlope  Neighborhood  Condition1  \\\n",
       "0           False      False      False      False         False       False   \n",
       "1           False      False      False      False         False       False   \n",
       "2           False      False      False      False         False       False   \n",
       "3           False      False      False      False         False       False   \n",
       "4           False      False      False      False         False       False   \n",
       "...           ...        ...        ...        ...           ...         ...   \n",
       "1455        False      False      False      False         False       False   \n",
       "1456        False      False      False      False         False       False   \n",
       "1457        False      False      False      False         False       False   \n",
       "1458        False      False      False      False         False       False   \n",
       "1459        False      False      False      False         False       False   \n",
       "\n",
       "      Condition2  BldgType  HouseStyle  SalePrice  \n",
       "0          False     False       False      False  \n",
       "1          False     False       False      False  \n",
       "2          False     False       False      False  \n",
       "3          False     False       False      False  \n",
       "4          False     False       False      False  \n",
       "...          ...       ...         ...        ...  \n",
       "1455       False     False       False      False  \n",
       "1456       False     False       False      False  \n",
       "1457       False     False       False      False  \n",
       "1458       False     False       False      False  \n",
       "1459       False     False       False      False  \n",
       "\n",
       "[1460 rows x 17 columns]"
      ]
     },
     "execution_count": 57,
     "metadata": {},
     "output_type": "execute_result"
    }
   ],
   "source": [
    "df.isna()"
   ]
  },
  {
   "cell_type": "markdown",
   "id": "a24866de",
   "metadata": {},
   "source": [
    "Dato curioso: En Pandas, *isnull* e *isna* son alias para la misma funcion, no hay diferencias "
   ]
  },
  {
   "cell_type": "code",
   "execution_count": 58,
   "id": "a3be7558",
   "metadata": {},
   "outputs": [
    {
     "name": "stdout",
     "output_type": "stream",
     "text": [
      "Contador de nulos / na por variables\n"
     ]
    },
    {
     "data": {
      "text/plain": [
       "MSSubClass         0\n",
       "MSZoning           0\n",
       "LotFrontage      259\n",
       "LotArea            0\n",
       "Street             0\n",
       "Alley           1369\n",
       "LotShape           0\n",
       "LandContour        0\n",
       "Utilities          0\n",
       "LotConfig          0\n",
       "LandSlope          0\n",
       "Neighborhood       0\n",
       "Condition1         0\n",
       "Condition2         0\n",
       "BldgType           0\n",
       "HouseStyle         0\n",
       "SalePrice          0\n",
       "dtype: int64"
      ]
     },
     "execution_count": 58,
     "metadata": {},
     "output_type": "execute_result"
    }
   ],
   "source": [
    "print(\"Contador de nulos / na por variables\")\n",
    "df.isnull().sum()"
   ]
  },
  {
   "cell_type": "markdown",
   "id": "4ea1bb15",
   "metadata": {},
   "source": [
    "## Variables numéricas"
   ]
  },
  {
   "cell_type": "markdown",
   "id": "01910f18",
   "metadata": {},
   "source": [
    "#### Inspección Inicial\n",
    "> Verificar variables numéricas que tienen una desviación estándar cercana a 0, puesto que esto indica que la variable no toma un rango amplio de valores y puede que no aporte significativamente al análisis"
   ]
  },
  {
   "cell_type": "code",
   "execution_count": 59,
   "id": "453077af",
   "metadata": {},
   "outputs": [
    {
     "data": {
      "text/html": [
       "<div>\n",
       "<style scoped>\n",
       "    .dataframe tbody tr th:only-of-type {\n",
       "        vertical-align: middle;\n",
       "    }\n",
       "\n",
       "    .dataframe tbody tr th {\n",
       "        vertical-align: top;\n",
       "    }\n",
       "\n",
       "    .dataframe thead th {\n",
       "        text-align: right;\n",
       "    }\n",
       "</style>\n",
       "<table border=\"1\" class=\"dataframe\">\n",
       "  <thead>\n",
       "    <tr style=\"text-align: right;\">\n",
       "      <th></th>\n",
       "      <th>MSSubClass</th>\n",
       "      <th>LotFrontage</th>\n",
       "      <th>LotArea</th>\n",
       "      <th>SalePrice</th>\n",
       "    </tr>\n",
       "  </thead>\n",
       "  <tbody>\n",
       "    <tr>\n",
       "      <th>count</th>\n",
       "      <td>1460.000000</td>\n",
       "      <td>1201.000000</td>\n",
       "      <td>1460.000000</td>\n",
       "      <td>1460.000000</td>\n",
       "    </tr>\n",
       "    <tr>\n",
       "      <th>mean</th>\n",
       "      <td>56.897260</td>\n",
       "      <td>70.049958</td>\n",
       "      <td>10516.828082</td>\n",
       "      <td>180921.195890</td>\n",
       "    </tr>\n",
       "    <tr>\n",
       "      <th>std</th>\n",
       "      <td>42.300571</td>\n",
       "      <td>24.284752</td>\n",
       "      <td>9981.264932</td>\n",
       "      <td>79442.502883</td>\n",
       "    </tr>\n",
       "    <tr>\n",
       "      <th>min</th>\n",
       "      <td>20.000000</td>\n",
       "      <td>21.000000</td>\n",
       "      <td>1300.000000</td>\n",
       "      <td>34900.000000</td>\n",
       "    </tr>\n",
       "    <tr>\n",
       "      <th>25%</th>\n",
       "      <td>20.000000</td>\n",
       "      <td>59.000000</td>\n",
       "      <td>7553.500000</td>\n",
       "      <td>129975.000000</td>\n",
       "    </tr>\n",
       "    <tr>\n",
       "      <th>50%</th>\n",
       "      <td>50.000000</td>\n",
       "      <td>69.000000</td>\n",
       "      <td>9478.500000</td>\n",
       "      <td>163000.000000</td>\n",
       "    </tr>\n",
       "    <tr>\n",
       "      <th>75%</th>\n",
       "      <td>70.000000</td>\n",
       "      <td>80.000000</td>\n",
       "      <td>11601.500000</td>\n",
       "      <td>214000.000000</td>\n",
       "    </tr>\n",
       "    <tr>\n",
       "      <th>max</th>\n",
       "      <td>190.000000</td>\n",
       "      <td>313.000000</td>\n",
       "      <td>215245.000000</td>\n",
       "      <td>755000.000000</td>\n",
       "    </tr>\n",
       "  </tbody>\n",
       "</table>\n",
       "</div>"
      ],
      "text/plain": [
       "        MSSubClass  LotFrontage        LotArea      SalePrice\n",
       "count  1460.000000  1201.000000    1460.000000    1460.000000\n",
       "mean     56.897260    70.049958   10516.828082  180921.195890\n",
       "std      42.300571    24.284752    9981.264932   79442.502883\n",
       "min      20.000000    21.000000    1300.000000   34900.000000\n",
       "25%      20.000000    59.000000    7553.500000  129975.000000\n",
       "50%      50.000000    69.000000    9478.500000  163000.000000\n",
       "75%      70.000000    80.000000   11601.500000  214000.000000\n",
       "max     190.000000   313.000000  215245.000000  755000.000000"
      ]
     },
     "execution_count": 59,
     "metadata": {},
     "output_type": "execute_result"
    }
   ],
   "source": [
    "df.describe()"
   ]
  },
  {
   "cell_type": "markdown",
   "id": "e65ccfa6",
   "metadata": {},
   "source": [
    "Las variables numéricas en el dataset presentan una varianza mayor a cero, por lo que se consideran relevantes para la resolución del problema."
   ]
  },
  {
   "cell_type": "markdown",
   "id": "d364d7a8",
   "metadata": {},
   "source": [
    "### Variable LotFrontage\n",
    "LotFrontage: Linear feet of street connected to property"
   ]
  },
  {
   "cell_type": "code",
   "execution_count": 60,
   "id": "4bb8e59e",
   "metadata": {},
   "outputs": [
    {
     "name": "stdout",
     "output_type": "stream",
     "text": [
      "259\n"
     ]
    }
   ],
   "source": [
    "print(df['LotFrontage'].isnull().sum())"
   ]
  },
  {
   "cell_type": "code",
   "execution_count": 61,
   "id": "0f2ae6ac",
   "metadata": {},
   "outputs": [
    {
     "data": {
      "text/plain": [
       "count    1201.000000\n",
       "mean       70.049958\n",
       "std        24.284752\n",
       "min        21.000000\n",
       "25%        59.000000\n",
       "50%        69.000000\n",
       "75%        80.000000\n",
       "max       313.000000\n",
       "Name: LotFrontage, dtype: float64"
      ]
     },
     "execution_count": 61,
     "metadata": {},
     "output_type": "execute_result"
    }
   ],
   "source": [
    "df['LotFrontage'].describe()"
   ]
  },
  {
   "cell_type": "markdown",
   "id": "5235ea73",
   "metadata": {},
   "source": [
    "Se podria imputar los valores faltantes con la mediana global, pero se investigó que podría ser buena idea agrupar por vecindario y observar como cambia la mediana.\n",
    "Se elige la mediana porque es una medida de tendencia central que no es sensible a datos atípicos"
   ]
  },
  {
   "cell_type": "code",
   "execution_count": 62,
   "id": "02b5bdc0",
   "metadata": {},
   "outputs": [
    {
     "name": "stdout",
     "output_type": "stream",
     "text": [
      "Neighborhood\n",
      "Blmngtn    43.0\n",
      "Blueste    24.0\n",
      "BrDale     21.0\n",
      "BrkSide    52.0\n",
      "ClearCr    80.0\n",
      "CollgCr    70.0\n",
      "Crawfor    74.0\n",
      "Edwards    65.5\n",
      "Gilbert    65.0\n",
      "IDOTRR     60.0\n",
      "MeadowV    21.0\n",
      "Mitchel    73.0\n",
      "NAmes      73.0\n",
      "NPkVill    24.0\n",
      "NWAmes     80.0\n",
      "NoRidge    91.0\n",
      "NridgHt    88.5\n",
      "OldTown    60.0\n",
      "SWISU      60.0\n",
      "Sawyer     71.0\n",
      "SawyerW    66.5\n",
      "Somerst    73.5\n",
      "StoneBr    61.5\n",
      "Timber     85.0\n",
      "Veenker    68.0\n",
      "Name: LotFrontage, dtype: float64\n"
     ]
    }
   ],
   "source": [
    "print(df.groupby('Neighborhood')['LotFrontage'].median())"
   ]
  },
  {
   "cell_type": "markdown",
   "id": "f3410158",
   "metadata": {},
   "source": [
    "Se observa que la mediana cambia mucho dependiendo del vecindario, por lo tanto no seria una buena idea imputar los valores faltantes de la variables con la mediana global. Una mejor estrategia seria imputar los valores faltantes con los de su correspondiente vecindario."
   ]
  },
  {
   "cell_type": "code",
   "execution_count": 63,
   "id": "f248312d",
   "metadata": {},
   "outputs": [
    {
     "name": "stdout",
     "output_type": "stream",
     "text": [
      "0       70.0\n",
      "1       68.0\n",
      "2       70.0\n",
      "3       74.0\n",
      "4       91.0\n",
      "        ... \n",
      "1455    65.0\n",
      "1456    80.0\n",
      "1457    74.0\n",
      "1458    73.0\n",
      "1459    65.5\n",
      "Name: LotFrontage, Length: 1460, dtype: float64\n"
     ]
    }
   ],
   "source": [
    "neighb_median = df.groupby('Neighborhood')['LotFrontage'].transform('median')\n",
    "print(neighb_median)"
   ]
  },
  {
   "cell_type": "code",
   "execution_count": 64,
   "id": "58057453",
   "metadata": {},
   "outputs": [
    {
     "name": "stdout",
     "output_type": "stream",
     "text": [
      "0\n"
     ]
    }
   ],
   "source": [
    "df['LotFrontage'] = df['LotFrontage'].fillna(neighb_median)\n",
    "print(df['LotFrontage'].isnull().sum())"
   ]
  },
  {
   "cell_type": "markdown",
   "id": "d08ddb69",
   "metadata": {},
   "source": [
    "### Variable LotArea\n",
    "LotArea: Lot size in square feet"
   ]
  },
  {
   "cell_type": "code",
   "execution_count": 65,
   "id": "62d31244",
   "metadata": {},
   "outputs": [
    {
     "data": {
      "text/plain": [
       "count      1460.000000\n",
       "mean      10516.828082\n",
       "std        9981.264932\n",
       "min        1300.000000\n",
       "25%        7553.500000\n",
       "50%        9478.500000\n",
       "75%       11601.500000\n",
       "max      215245.000000\n",
       "Name: LotArea, dtype: float64"
      ]
     },
     "execution_count": 65,
     "metadata": {},
     "output_type": "execute_result"
    }
   ],
   "source": [
    "df['LotArea'].describe()"
   ]
  },
  {
   "cell_type": "code",
   "execution_count": 66,
   "id": "33a05c8b",
   "metadata": {},
   "outputs": [
    {
     "name": "stdout",
     "output_type": "stream",
     "text": [
      "0\n"
     ]
    }
   ],
   "source": [
    "print(df['LotArea'].isnull().sum())"
   ]
  },
  {
   "cell_type": "markdown",
   "id": "0d7fae6e",
   "metadata": {},
   "source": [
    "### Variable MSSubClass\n",
    "MSSubClass: Identifies the type of dwelling involved in the sale.\t\n",
    "\n",
    "        20\t1-STORY 1946 & NEWER ALL STYLES\n",
    "        30\t1-STORY 1945 & OLDER\n",
    "        40\t1-STORY W/FINISHED ATTIC ALL AGES\n",
    "        45\t1-1/2 STORY - UNFINISHED ALL AGES\n",
    "        50\t1-1/2 STORY FINISHED ALL AGES\n",
    "        60\t2-STORY 1946 & NEWER\n",
    "        70\t2-STORY 1945 & OLDER\n",
    "        75\t2-1/2 STORY ALL AGES\n",
    "        80\tSPLIT OR MULTI-LEVEL\n",
    "        85\tSPLIT FOYER\n",
    "        90\tDUPLEX - ALL STYLES AND AGES\n",
    "       120\t1-STORY PUD (Planned Unit Development) - 1946 & NEWER\n",
    "       150\t1-1/2 STORY PUD - ALL AGES\n",
    "       160\t2-STORY PUD - 1946 & NEWER\n",
    "       180\tPUD - MULTILEVEL - INCL SPLIT LEV/FOYER\n",
    "       190\t2 FAMILY CONVERSION - ALL STYLES AND AGES"
   ]
  },
  {
   "cell_type": "code",
   "execution_count": 67,
   "id": "ac069b6b",
   "metadata": {},
   "outputs": [
    {
     "name": "stdout",
     "output_type": "stream",
     "text": [
      "0\n"
     ]
    }
   ],
   "source": [
    "print(df['MSSubClass'].isna().sum())"
   ]
  },
  {
   "cell_type": "markdown",
   "id": "83dc76df",
   "metadata": {},
   "source": [
    "Esta variable es numérica, pero internamente representa una categoría. Por ello, es importante transformar este número a otro tipo de dato, con el objetivo de no confundir luego al modelo."
   ]
  },
  {
   "cell_type": "code",
   "execution_count": 68,
   "id": "e85e7ffd",
   "metadata": {},
   "outputs": [],
   "source": [
    "df['MSSubClass'] = df['MSSubClass'].astype(str)"
   ]
  },
  {
   "cell_type": "code",
   "execution_count": 69,
   "id": "29a2345c",
   "metadata": {},
   "outputs": [
    {
     "name": "stdout",
     "output_type": "stream",
     "text": [
      "<class 'pandas.core.frame.DataFrame'>\n",
      "RangeIndex: 1460 entries, 0 to 1459\n",
      "Data columns (total 17 columns):\n",
      " #   Column        Non-Null Count  Dtype  \n",
      "---  ------        --------------  -----  \n",
      " 0   MSSubClass    1460 non-null   object \n",
      " 1   MSZoning      1460 non-null   object \n",
      " 2   LotFrontage   1460 non-null   float64\n",
      " 3   LotArea       1460 non-null   int64  \n",
      " 4   Street        1460 non-null   object \n",
      " 5   Alley         91 non-null     object \n",
      " 6   LotShape      1460 non-null   object \n",
      " 7   LandContour   1460 non-null   object \n",
      " 8   Utilities     1460 non-null   object \n",
      " 9   LotConfig     1460 non-null   object \n",
      " 10  LandSlope     1460 non-null   object \n",
      " 11  Neighborhood  1460 non-null   object \n",
      " 12  Condition1    1460 non-null   object \n",
      " 13  Condition2    1460 non-null   object \n",
      " 14  BldgType      1460 non-null   object \n",
      " 15  HouseStyle    1460 non-null   object \n",
      " 16  SalePrice     1460 non-null   int64  \n",
      "dtypes: float64(1), int64(2), object(14)\n",
      "memory usage: 194.0+ KB\n"
     ]
    }
   ],
   "source": [
    "df.info()"
   ]
  },
  {
   "cell_type": "markdown",
   "id": "5fdd7ba7",
   "metadata": {},
   "source": [
    "## Variables categóricas\n",
    "#### Inspección Inicial\n",
    "> Verificar variables categóricas que tienen un solo subnivel"
   ]
  },
  {
   "cell_type": "code",
   "execution_count": 70,
   "id": "10cdc2ef",
   "metadata": {},
   "outputs": [
    {
     "name": "stdout",
     "output_type": "stream",
     "text": [
      "Columna: Alley: 2 subniveles\n",
      "Columna: MSZoning: 5 subniveles\n",
      "Columna: Street: 2 subniveles\n",
      "Columna: LotShape: 4 subniveles\n",
      "Columna: LandContour: 4 subniveles\n",
      "Columna: Utilities: 2 subniveles\n",
      "Columna: LotConfig: 5 subniveles\n",
      "Columna: LandSlope: 3 subniveles\n",
      "Columna: Neighborhood: 25 subniveles\n",
      "Columna: Condition1: 9 subniveles\n",
      "Columna: Condition2: 8 subniveles\n",
      "Columna: BldgType: 5 subniveles\n",
      "Columna: HouseStyle: 8 subniveles\n"
     ]
    }
   ],
   "source": [
    "cat_vars = ['Alley', \n",
    "            'MSZoning', \n",
    "            'Street', \n",
    "            'LotShape', \n",
    "            'LandContour', \n",
    "            'Utilities', \n",
    "            'LotConfig', \n",
    "            'LandSlope', \n",
    "            'Neighborhood', \n",
    "            'Condition1', \n",
    "            'Condition2', \n",
    "            'BldgType', \n",
    "            'HouseStyle'\n",
    "        ]\n",
    "\n",
    "for col in cat_vars:\n",
    "    print(f\"Columna: {col}: {df[col].nunique()} subniveles\")"
   ]
  },
  {
   "cell_type": "markdown",
   "id": "2420ca60",
   "metadata": {},
   "source": [
    "Es posible observar que la variable Street y la variable Utilities tienen pocos subniveles. Hay que tomar en cuenta esto para verificar si en realidad podrian aportar información al análisis o podríamos eliminar por tener una varianza casi nula."
   ]
  },
  {
   "cell_type": "markdown",
   "id": "09ef73d6",
   "metadata": {},
   "source": [
    "### Variable Alley\n",
    "Alley: Type of alley access to property\n",
    "\n",
    "       Grvl\tGravel\n",
    "       Pave\tPaved\n",
    "       NA \tNo alley access"
   ]
  },
  {
   "cell_type": "code",
   "execution_count": 71,
   "id": "d106420c",
   "metadata": {},
   "outputs": [
    {
     "name": "stdout",
     "output_type": "stream",
     "text": [
      "Alley\n",
      "NaN     1369\n",
      "Grvl      50\n",
      "Pave      41\n",
      "Name: count, dtype: int64\n"
     ]
    }
   ],
   "source": [
    "print(df['Alley'].value_counts(dropna=False))"
   ]
  },
  {
   "cell_type": "markdown",
   "id": "05f88991",
   "metadata": {},
   "source": [
    "Entonces, la mayoría de casas no tienen callejón. Para proceder correctamente se imputará el valor NaN con el string None."
   ]
  },
  {
   "cell_type": "code",
   "execution_count": 72,
   "id": "0d0c45a1",
   "metadata": {},
   "outputs": [
    {
     "name": "stdout",
     "output_type": "stream",
     "text": [
      "Alley\n",
      "None    1369\n",
      "Grvl      50\n",
      "Pave      41\n",
      "Name: count, dtype: int64\n"
     ]
    }
   ],
   "source": [
    "df['Alley'] = df['Alley'].fillna(\"None\")\n",
    "print(df['Alley'].value_counts(dropna=False))"
   ]
  },
  {
   "cell_type": "markdown",
   "id": "e57a4aaa",
   "metadata": {},
   "source": [
    "### Variable MSZoning\n",
    "MSZoning: Identifies the general zoning classification of the sale.\n",
    "\t\t\n",
    "       A\tAgriculture\n",
    "       C\tCommercial\n",
    "       FV\tFloating Village Residential\n",
    "       I\tIndustrial\n",
    "       RH\tResidential High Density\n",
    "       RL\tResidential Low Density\n",
    "       RP\tResidential Low Density Park \n",
    "       RM\tResidential Medium Density"
   ]
  },
  {
   "cell_type": "code",
   "execution_count": 73,
   "id": "f923bcdf",
   "metadata": {},
   "outputs": [
    {
     "name": "stdout",
     "output_type": "stream",
     "text": [
      "MSZoning\n",
      "RL         1151\n",
      "RM          218\n",
      "FV           65\n",
      "RH           16\n",
      "C (all)      10\n",
      "Name: count, dtype: int64\n"
     ]
    }
   ],
   "source": [
    "print(df['MSZoning'].value_counts(dropna=False))"
   ]
  },
  {
   "cell_type": "markdown",
   "id": "255ab757",
   "metadata": {},
   "source": [
    "### Variable Street\n",
    "Street: Type of road access to property\n",
    "\n",
    "       Grvl\tGravel\t\n",
    "       Pave\tPaved"
   ]
  },
  {
   "cell_type": "code",
   "execution_count": 74,
   "id": "db1ef67e",
   "metadata": {},
   "outputs": [
    {
     "name": "stdout",
     "output_type": "stream",
     "text": [
      "Street\n",
      "Pave    1454\n",
      "Grvl       6\n",
      "Name: count, dtype: int64\n"
     ]
    }
   ],
   "source": [
    "print(df['Street'].value_counts(dropna=False))"
   ]
  },
  {
   "cell_type": "markdown",
   "id": "caaa4233",
   "metadata": {},
   "source": [
    "El 99% de las observaciones recaen sobre una única categoría en la variable Street. Se procede a eliminar la variable del dataset."
   ]
  },
  {
   "cell_type": "code",
   "execution_count": 75,
   "id": "789b9d44",
   "metadata": {},
   "outputs": [],
   "source": [
    "df.drop('Street', axis=1, inplace=True)"
   ]
  },
  {
   "cell_type": "markdown",
   "id": "6c839248",
   "metadata": {},
   "source": [
    "### Variable Utilities\n",
    "Utilities: Type of utilities available\n",
    "\t\t\n",
    "       AllPub\tAll public Utilities (E,G,W,& S)\t\n",
    "       NoSewr\tElectricity, Gas, and Water (Septic Tank)\n",
    "       NoSeWa\tElectricity and Gas Only\n",
    "       ELO\tElectricity only\t"
   ]
  },
  {
   "cell_type": "code",
   "execution_count": 76,
   "id": "b7b34c9b",
   "metadata": {},
   "outputs": [
    {
     "name": "stdout",
     "output_type": "stream",
     "text": [
      "Utilities\n",
      "AllPub    1459\n",
      "NoSeWa       1\n",
      "Name: count, dtype: int64\n"
     ]
    }
   ],
   "source": [
    "print(df['Utilities'].value_counts(dropna=False))"
   ]
  },
  {
   "cell_type": "markdown",
   "id": "b2822724",
   "metadata": {},
   "source": [
    "El 99% de las observaciones recaen sobre una única categoría en la variable Street. Se procede a eliminar la variable del dataset."
   ]
  },
  {
   "cell_type": "code",
   "execution_count": 77,
   "id": "f9847c65",
   "metadata": {},
   "outputs": [],
   "source": [
    "df.drop('Utilities', axis=1, inplace=True)"
   ]
  },
  {
   "cell_type": "markdown",
   "id": "80ee13db",
   "metadata": {},
   "source": [
    "## Filas repetidas"
   ]
  },
  {
   "cell_type": "code",
   "execution_count": 78,
   "id": "c377c977",
   "metadata": {},
   "outputs": [
    {
     "name": "stdout",
     "output_type": "stream",
     "text": [
      "Tamaño del data set antes de eliminar filas repetidas: (1460, 15)\n",
      "Tamaño del data set luego de eliminar filas repetidas: (1458, 15)\n"
     ]
    }
   ],
   "source": [
    "print(f\"Tamaño del data set antes de eliminar filas repetidas: {df.shape}\")\n",
    "df.drop_duplicates(inplace=True)\n",
    "print(f\"Tamaño del data set luego de eliminar filas repetidas: {df.shape}\")"
   ]
  },
  {
   "cell_type": "markdown",
   "id": "98ee9c16",
   "metadata": {},
   "source": [
    "## Data Interim"
   ]
  },
  {
   "cell_type": "code",
   "execution_count": 79,
   "id": "1e2d902d",
   "metadata": {},
   "outputs": [],
   "source": [
    "train_interim_path = data_interim_dir() / \"train_cleaned.csv\"\n",
    "df.to_csv(train_interim_path, index=False)"
   ]
  }
 ],
 "metadata": {
  "kernelspec": {
   "display_name": ".venv",
   "language": "python",
   "name": "python3"
  },
  "language_info": {
   "codemirror_mode": {
    "name": "ipython",
    "version": 3
   },
   "file_extension": ".py",
   "mimetype": "text/x-python",
   "name": "python",
   "nbconvert_exporter": "python",
   "pygments_lexer": "ipython3",
   "version": "3.13.7"
  }
 },
 "nbformat": 4,
 "nbformat_minor": 5
}
