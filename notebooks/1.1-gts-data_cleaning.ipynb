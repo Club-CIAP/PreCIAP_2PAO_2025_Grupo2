{
 "cells": [
  {
   "cell_type": "markdown",
   "id": "7b435d0d",
   "metadata": {},
   "source": [
    "# Notebook de experimentación - Gabriel Tumbaco"
   ]
  },
  {
   "cell_type": "code",
   "execution_count": 1,
   "id": "acf819ce",
   "metadata": {},
   "outputs": [],
   "source": [
    "%load_ext autoreload\n",
    "%autoreload 2"
   ]
  },
  {
   "cell_type": "code",
   "execution_count": 2,
   "id": "4dd2cad8",
   "metadata": {},
   "outputs": [],
   "source": [
    "import pandas as pd\n",
    "import matplotlib.pyplot as plt\n",
    "import seaborn as sns\n",
    "\n",
    "from housing_price_prediction.utils.paths import data_raw_dir\n",
    "\n",
    "train_path = data_raw_dir() / \"train.csv\"\n",
    "df_raw = pd.read_csv(train_path)"
   ]
  },
  {
   "cell_type": "markdown",
   "id": "e126434f",
   "metadata": {},
   "source": [
    "## Exploracion y limpieza de las siguientes variables\n",
    "\n",
    "Variables que describen el terreno, la ubicación y el tipo general de la propiedad.\n",
    "\n",
    "- MSSubClass\n",
    "- MSZoning\n",
    "- LotFrontage\n",
    "- LotArea\n",
    "- Street\n",
    "- Alley\n",
    "- LotShape\n",
    "- LandContour\n",
    "- Utilities\n",
    "- LotConfig\n",
    "- LandSlope\n",
    "- Neighborhood\n",
    "- Condition1\n",
    "- Condition2\n",
    "- BldgType\n",
    "- HouseStyle"
   ]
  },
  {
   "cell_type": "markdown",
   "id": "5b060b32",
   "metadata": {},
   "source": [
    "**Experimentacion con el dataset**"
   ]
  },
  {
   "cell_type": "code",
   "execution_count": 3,
   "id": "3f35e3e8",
   "metadata": {},
   "outputs": [],
   "source": [
    "variables = [\n",
    "    'MSSubClass', 'MSZoning', 'LotFrontage', 'LotArea', 'Street', \n",
    "    'Alley', 'LotShape', 'LandContour', 'Utilities', 'LotConfig', \n",
    "    'LandSlope', 'Neighborhood', 'Condition1', 'Condition2', \n",
    "    'BldgType', 'HouseStyle', 'SalePrice' \n",
    "]\n",
    "\n",
    "# se indexa en las variables y se crea una copia de experimentacion\n",
    "df = df_raw[variables].copy()"
   ]
  },
  {
   "cell_type": "code",
   "execution_count": 5,
   "id": "79fd2de1",
   "metadata": {},
   "outputs": [
    {
     "name": "stdout",
     "output_type": "stream",
     "text": [
      "(1460, 17)\n",
      "<class 'pandas.core.frame.DataFrame'>\n",
      "RangeIndex: 1460 entries, 0 to 1459\n",
      "Data columns (total 17 columns):\n",
      " #   Column        Non-Null Count  Dtype  \n",
      "---  ------        --------------  -----  \n",
      " 0   MSSubClass    1460 non-null   int64  \n",
      " 1   MSZoning      1460 non-null   object \n",
      " 2   LotFrontage   1201 non-null   float64\n",
      " 3   LotArea       1460 non-null   int64  \n",
      " 4   Street        1460 non-null   object \n",
      " 5   Alley         91 non-null     object \n",
      " 6   LotShape      1460 non-null   object \n",
      " 7   LandContour   1460 non-null   object \n",
      " 8   Utilities     1460 non-null   object \n",
      " 9   LotConfig     1460 non-null   object \n",
      " 10  LandSlope     1460 non-null   object \n",
      " 11  Neighborhood  1460 non-null   object \n",
      " 12  Condition1    1460 non-null   object \n",
      " 13  Condition2    1460 non-null   object \n",
      " 14  BldgType      1460 non-null   object \n",
      " 15  HouseStyle    1460 non-null   object \n",
      " 16  SalePrice     1460 non-null   int64  \n",
      "dtypes: float64(1), int64(3), object(13)\n",
      "memory usage: 194.0+ KB\n"
     ]
    }
   ],
   "source": [
    "print(df.shape)\n",
    "df.info()"
   ]
  },
  {
   "cell_type": "markdown",
   "id": "3aa28c0f",
   "metadata": {},
   "source": [
    "# Valores faltantes"
   ]
  },
  {
   "cell_type": "code",
   "execution_count": 6,
   "id": "e417f347",
   "metadata": {},
   "outputs": [
    {
     "data": {
      "text/html": [
       "<div>\n",
       "<style scoped>\n",
       "    .dataframe tbody tr th:only-of-type {\n",
       "        vertical-align: middle;\n",
       "    }\n",
       "\n",
       "    .dataframe tbody tr th {\n",
       "        vertical-align: top;\n",
       "    }\n",
       "\n",
       "    .dataframe thead th {\n",
       "        text-align: right;\n",
       "    }\n",
       "</style>\n",
       "<table border=\"1\" class=\"dataframe\">\n",
       "  <thead>\n",
       "    <tr style=\"text-align: right;\">\n",
       "      <th></th>\n",
       "      <th>MSSubClass</th>\n",
       "      <th>MSZoning</th>\n",
       "      <th>LotFrontage</th>\n",
       "      <th>LotArea</th>\n",
       "      <th>Street</th>\n",
       "      <th>Alley</th>\n",
       "      <th>LotShape</th>\n",
       "      <th>LandContour</th>\n",
       "      <th>Utilities</th>\n",
       "      <th>LotConfig</th>\n",
       "      <th>LandSlope</th>\n",
       "      <th>Neighborhood</th>\n",
       "      <th>Condition1</th>\n",
       "      <th>Condition2</th>\n",
       "      <th>BldgType</th>\n",
       "      <th>HouseStyle</th>\n",
       "      <th>SalePrice</th>\n",
       "    </tr>\n",
       "  </thead>\n",
       "  <tbody>\n",
       "    <tr>\n",
       "      <th>0</th>\n",
       "      <td>False</td>\n",
       "      <td>False</td>\n",
       "      <td>False</td>\n",
       "      <td>False</td>\n",
       "      <td>False</td>\n",
       "      <td>True</td>\n",
       "      <td>False</td>\n",
       "      <td>False</td>\n",
       "      <td>False</td>\n",
       "      <td>False</td>\n",
       "      <td>False</td>\n",
       "      <td>False</td>\n",
       "      <td>False</td>\n",
       "      <td>False</td>\n",
       "      <td>False</td>\n",
       "      <td>False</td>\n",
       "      <td>False</td>\n",
       "    </tr>\n",
       "    <tr>\n",
       "      <th>1</th>\n",
       "      <td>False</td>\n",
       "      <td>False</td>\n",
       "      <td>False</td>\n",
       "      <td>False</td>\n",
       "      <td>False</td>\n",
       "      <td>True</td>\n",
       "      <td>False</td>\n",
       "      <td>False</td>\n",
       "      <td>False</td>\n",
       "      <td>False</td>\n",
       "      <td>False</td>\n",
       "      <td>False</td>\n",
       "      <td>False</td>\n",
       "      <td>False</td>\n",
       "      <td>False</td>\n",
       "      <td>False</td>\n",
       "      <td>False</td>\n",
       "    </tr>\n",
       "    <tr>\n",
       "      <th>2</th>\n",
       "      <td>False</td>\n",
       "      <td>False</td>\n",
       "      <td>False</td>\n",
       "      <td>False</td>\n",
       "      <td>False</td>\n",
       "      <td>True</td>\n",
       "      <td>False</td>\n",
       "      <td>False</td>\n",
       "      <td>False</td>\n",
       "      <td>False</td>\n",
       "      <td>False</td>\n",
       "      <td>False</td>\n",
       "      <td>False</td>\n",
       "      <td>False</td>\n",
       "      <td>False</td>\n",
       "      <td>False</td>\n",
       "      <td>False</td>\n",
       "    </tr>\n",
       "    <tr>\n",
       "      <th>3</th>\n",
       "      <td>False</td>\n",
       "      <td>False</td>\n",
       "      <td>False</td>\n",
       "      <td>False</td>\n",
       "      <td>False</td>\n",
       "      <td>True</td>\n",
       "      <td>False</td>\n",
       "      <td>False</td>\n",
       "      <td>False</td>\n",
       "      <td>False</td>\n",
       "      <td>False</td>\n",
       "      <td>False</td>\n",
       "      <td>False</td>\n",
       "      <td>False</td>\n",
       "      <td>False</td>\n",
       "      <td>False</td>\n",
       "      <td>False</td>\n",
       "    </tr>\n",
       "    <tr>\n",
       "      <th>4</th>\n",
       "      <td>False</td>\n",
       "      <td>False</td>\n",
       "      <td>False</td>\n",
       "      <td>False</td>\n",
       "      <td>False</td>\n",
       "      <td>True</td>\n",
       "      <td>False</td>\n",
       "      <td>False</td>\n",
       "      <td>False</td>\n",
       "      <td>False</td>\n",
       "      <td>False</td>\n",
       "      <td>False</td>\n",
       "      <td>False</td>\n",
       "      <td>False</td>\n",
       "      <td>False</td>\n",
       "      <td>False</td>\n",
       "      <td>False</td>\n",
       "    </tr>\n",
       "    <tr>\n",
       "      <th>...</th>\n",
       "      <td>...</td>\n",
       "      <td>...</td>\n",
       "      <td>...</td>\n",
       "      <td>...</td>\n",
       "      <td>...</td>\n",
       "      <td>...</td>\n",
       "      <td>...</td>\n",
       "      <td>...</td>\n",
       "      <td>...</td>\n",
       "      <td>...</td>\n",
       "      <td>...</td>\n",
       "      <td>...</td>\n",
       "      <td>...</td>\n",
       "      <td>...</td>\n",
       "      <td>...</td>\n",
       "      <td>...</td>\n",
       "      <td>...</td>\n",
       "    </tr>\n",
       "    <tr>\n",
       "      <th>1455</th>\n",
       "      <td>False</td>\n",
       "      <td>False</td>\n",
       "      <td>False</td>\n",
       "      <td>False</td>\n",
       "      <td>False</td>\n",
       "      <td>True</td>\n",
       "      <td>False</td>\n",
       "      <td>False</td>\n",
       "      <td>False</td>\n",
       "      <td>False</td>\n",
       "      <td>False</td>\n",
       "      <td>False</td>\n",
       "      <td>False</td>\n",
       "      <td>False</td>\n",
       "      <td>False</td>\n",
       "      <td>False</td>\n",
       "      <td>False</td>\n",
       "    </tr>\n",
       "    <tr>\n",
       "      <th>1456</th>\n",
       "      <td>False</td>\n",
       "      <td>False</td>\n",
       "      <td>False</td>\n",
       "      <td>False</td>\n",
       "      <td>False</td>\n",
       "      <td>True</td>\n",
       "      <td>False</td>\n",
       "      <td>False</td>\n",
       "      <td>False</td>\n",
       "      <td>False</td>\n",
       "      <td>False</td>\n",
       "      <td>False</td>\n",
       "      <td>False</td>\n",
       "      <td>False</td>\n",
       "      <td>False</td>\n",
       "      <td>False</td>\n",
       "      <td>False</td>\n",
       "    </tr>\n",
       "    <tr>\n",
       "      <th>1457</th>\n",
       "      <td>False</td>\n",
       "      <td>False</td>\n",
       "      <td>False</td>\n",
       "      <td>False</td>\n",
       "      <td>False</td>\n",
       "      <td>True</td>\n",
       "      <td>False</td>\n",
       "      <td>False</td>\n",
       "      <td>False</td>\n",
       "      <td>False</td>\n",
       "      <td>False</td>\n",
       "      <td>False</td>\n",
       "      <td>False</td>\n",
       "      <td>False</td>\n",
       "      <td>False</td>\n",
       "      <td>False</td>\n",
       "      <td>False</td>\n",
       "    </tr>\n",
       "    <tr>\n",
       "      <th>1458</th>\n",
       "      <td>False</td>\n",
       "      <td>False</td>\n",
       "      <td>False</td>\n",
       "      <td>False</td>\n",
       "      <td>False</td>\n",
       "      <td>True</td>\n",
       "      <td>False</td>\n",
       "      <td>False</td>\n",
       "      <td>False</td>\n",
       "      <td>False</td>\n",
       "      <td>False</td>\n",
       "      <td>False</td>\n",
       "      <td>False</td>\n",
       "      <td>False</td>\n",
       "      <td>False</td>\n",
       "      <td>False</td>\n",
       "      <td>False</td>\n",
       "    </tr>\n",
       "    <tr>\n",
       "      <th>1459</th>\n",
       "      <td>False</td>\n",
       "      <td>False</td>\n",
       "      <td>False</td>\n",
       "      <td>False</td>\n",
       "      <td>False</td>\n",
       "      <td>True</td>\n",
       "      <td>False</td>\n",
       "      <td>False</td>\n",
       "      <td>False</td>\n",
       "      <td>False</td>\n",
       "      <td>False</td>\n",
       "      <td>False</td>\n",
       "      <td>False</td>\n",
       "      <td>False</td>\n",
       "      <td>False</td>\n",
       "      <td>False</td>\n",
       "      <td>False</td>\n",
       "    </tr>\n",
       "  </tbody>\n",
       "</table>\n",
       "<p>1460 rows × 17 columns</p>\n",
       "</div>"
      ],
      "text/plain": [
       "      MSSubClass  MSZoning  LotFrontage  LotArea  Street  Alley  LotShape  \\\n",
       "0          False     False        False    False   False   True     False   \n",
       "1          False     False        False    False   False   True     False   \n",
       "2          False     False        False    False   False   True     False   \n",
       "3          False     False        False    False   False   True     False   \n",
       "4          False     False        False    False   False   True     False   \n",
       "...          ...       ...          ...      ...     ...    ...       ...   \n",
       "1455       False     False        False    False   False   True     False   \n",
       "1456       False     False        False    False   False   True     False   \n",
       "1457       False     False        False    False   False   True     False   \n",
       "1458       False     False        False    False   False   True     False   \n",
       "1459       False     False        False    False   False   True     False   \n",
       "\n",
       "      LandContour  Utilities  LotConfig  LandSlope  Neighborhood  Condition1  \\\n",
       "0           False      False      False      False         False       False   \n",
       "1           False      False      False      False         False       False   \n",
       "2           False      False      False      False         False       False   \n",
       "3           False      False      False      False         False       False   \n",
       "4           False      False      False      False         False       False   \n",
       "...           ...        ...        ...        ...           ...         ...   \n",
       "1455        False      False      False      False         False       False   \n",
       "1456        False      False      False      False         False       False   \n",
       "1457        False      False      False      False         False       False   \n",
       "1458        False      False      False      False         False       False   \n",
       "1459        False      False      False      False         False       False   \n",
       "\n",
       "      Condition2  BldgType  HouseStyle  SalePrice  \n",
       "0          False     False       False      False  \n",
       "1          False     False       False      False  \n",
       "2          False     False       False      False  \n",
       "3          False     False       False      False  \n",
       "4          False     False       False      False  \n",
       "...          ...       ...         ...        ...  \n",
       "1455       False     False       False      False  \n",
       "1456       False     False       False      False  \n",
       "1457       False     False       False      False  \n",
       "1458       False     False       False      False  \n",
       "1459       False     False       False      False  \n",
       "\n",
       "[1460 rows x 17 columns]"
      ]
     },
     "execution_count": 6,
     "metadata": {},
     "output_type": "execute_result"
    }
   ],
   "source": [
    "df.isna()"
   ]
  },
  {
   "cell_type": "markdown",
   "id": "a24866de",
   "metadata": {},
   "source": [
    "Dato curioso: En Pandas, *isnull* e *isna* son alias para la misma funcion, no hay diferencias "
   ]
  },
  {
   "cell_type": "code",
   "execution_count": 11,
   "id": "a3be7558",
   "metadata": {},
   "outputs": [
    {
     "name": "stdout",
     "output_type": "stream",
     "text": [
      "Contador de nulos / na por variables\n"
     ]
    },
    {
     "data": {
      "text/plain": [
       "MSSubClass         0\n",
       "MSZoning           0\n",
       "LotFrontage      259\n",
       "LotArea            0\n",
       "Street             0\n",
       "Alley           1369\n",
       "LotShape           0\n",
       "LandContour        0\n",
       "Utilities          0\n",
       "LotConfig          0\n",
       "LandSlope          0\n",
       "Neighborhood       0\n",
       "Condition1         0\n",
       "Condition2         0\n",
       "BldgType           0\n",
       "HouseStyle         0\n",
       "SalePrice          0\n",
       "dtype: int64"
      ]
     },
     "execution_count": 11,
     "metadata": {},
     "output_type": "execute_result"
    }
   ],
   "source": [
    "print(\"Contador de nulos / na por variables\")\n",
    "df.isnull().sum()"
   ]
  },
  {
   "cell_type": "markdown",
   "id": "4ea1bb15",
   "metadata": {},
   "source": [
    "## Variables numericas"
   ]
  },
  {
   "cell_type": "markdown",
   "id": "d364d7a8",
   "metadata": {},
   "source": [
    "### Variable LotFrontage\n",
    "LotFrontage: Linear feet of street connected to property"
   ]
  },
  {
   "cell_type": "code",
   "execution_count": null,
   "id": "4bb8e59e",
   "metadata": {},
   "outputs": [
    {
     "name": "stdout",
     "output_type": "stream",
     "text": [
      "259\n"
     ]
    }
   ],
   "source": [
    "print(df['LotFrontage'].isnull().sum())"
   ]
  },
  {
   "cell_type": "code",
   "execution_count": 23,
   "id": "0f2ae6ac",
   "metadata": {},
   "outputs": [
    {
     "data": {
      "text/plain": [
       "count    1201.000000\n",
       "mean       70.049958\n",
       "std        24.284752\n",
       "min        21.000000\n",
       "25%        59.000000\n",
       "50%        69.000000\n",
       "75%        80.000000\n",
       "max       313.000000\n",
       "Name: LotFrontage, dtype: float64"
      ]
     },
     "execution_count": 23,
     "metadata": {},
     "output_type": "execute_result"
    }
   ],
   "source": [
    "df['LotFrontage'].describe()"
   ]
  },
  {
   "cell_type": "markdown",
   "id": "5235ea73",
   "metadata": {},
   "source": [
    "Se podria imputar los valores faltantes con la mediana global, pero se investigó que podría ser buena idea agrupar por vecindario y observar como cambia la mediana.\n",
    "Se elige la mediana porque es una medida de tendencia central que no es sensible a datos atípicos"
   ]
  },
  {
   "cell_type": "code",
   "execution_count": 38,
   "id": "02b5bdc0",
   "metadata": {},
   "outputs": [
    {
     "name": "stdout",
     "output_type": "stream",
     "text": [
      "Neighborhood\n",
      "Blmngtn    43.0\n",
      "Blueste    24.0\n",
      "BrDale     21.0\n",
      "BrkSide    52.0\n",
      "ClearCr    80.0\n",
      "CollgCr    70.0\n",
      "Crawfor    74.0\n",
      "Edwards    65.5\n",
      "Gilbert    65.0\n",
      "IDOTRR     60.0\n",
      "MeadowV    21.0\n",
      "Mitchel    73.0\n",
      "NAmes      73.0\n",
      "NPkVill    24.0\n",
      "NWAmes     80.0\n",
      "NoRidge    91.0\n",
      "NridgHt    88.5\n",
      "OldTown    60.0\n",
      "SWISU      60.0\n",
      "Sawyer     71.0\n",
      "SawyerW    66.5\n",
      "Somerst    73.5\n",
      "StoneBr    61.5\n",
      "Timber     85.0\n",
      "Veenker    68.0\n",
      "Name: LotFrontage, dtype: float64\n"
     ]
    }
   ],
   "source": [
    "print(df.groupby('Neighborhood')['LotFrontage'].median())"
   ]
  },
  {
   "cell_type": "markdown",
   "id": "f3410158",
   "metadata": {},
   "source": [
    "Se observa que la mediana cambia muchisimo dependiendo del vecindario, por lo tanto no seria una buena idea imputar los valores faltantes de la variables con la mediana global. Una mejor estrategia seria imputar los valores faltantes con los de su correspondiente vecindario."
   ]
  },
  {
   "cell_type": "code",
   "execution_count": null,
   "id": "f248312d",
   "metadata": {},
   "outputs": [
    {
     "name": "stdout",
     "output_type": "stream",
     "text": [
      "0       70.0\n",
      "1       68.0\n",
      "2       70.0\n",
      "3       74.0\n",
      "4       91.0\n",
      "        ... \n",
      "1455    65.0\n",
      "1456    80.0\n",
      "1457    74.0\n",
      "1458    73.0\n",
      "1459    65.5\n",
      "Name: LotFrontage, Length: 1460, dtype: float64\n"
     ]
    }
   ],
   "source": [
    "#Uso de la funcion transform para obtener una columna util para llenar los nulos\n",
    "mediana_vecindarios = df.groupby('Neighborhood')['LotFrontage'].transform('median')\n",
    "print(mediana_vecindarios)"
   ]
  },
  {
   "cell_type": "code",
   "execution_count": 37,
   "id": "58057453",
   "metadata": {},
   "outputs": [
    {
     "name": "stdout",
     "output_type": "stream",
     "text": [
      "0\n"
     ]
    }
   ],
   "source": [
    "df['LotFrontage'] = df['LotFrontage'].fillna(mediana_vecindarios)\n",
    "print(df['LotFrontage'].isnull().sum())"
   ]
  },
  {
   "cell_type": "markdown",
   "id": "8885f7de",
   "metadata": {},
   "source": [
    "## Variables categoricas"
   ]
  },
  {
   "cell_type": "markdown",
   "id": "09ef73d6",
   "metadata": {},
   "source": [
    "### Variable Alley\n",
    "Alley: Type of alley access to property\n",
    "\n",
    "       Grvl\tGravel\n",
    "       Pave\tPaved\n",
    "       NA \tNo alley access"
   ]
  },
  {
   "cell_type": "code",
   "execution_count": null,
   "id": "d106420c",
   "metadata": {},
   "outputs": [
    {
     "name": "stdout",
     "output_type": "stream",
     "text": [
      "Alley\n",
      "NaN     1369\n",
      "Grvl      50\n",
      "Pave      41\n",
      "Name: count, dtype: int64\n"
     ]
    }
   ],
   "source": [
    "print(df['Alley'].value_counts(dropna=False))"
   ]
  },
  {
   "cell_type": "markdown",
   "id": "05f88991",
   "metadata": {},
   "source": [
    "Entonces, la mayoria de casas no tienen callejon. Para proceder correctamente se imputará el valor NaN con el string None."
   ]
  },
  {
   "cell_type": "code",
   "execution_count": 15,
   "id": "0d0c45a1",
   "metadata": {},
   "outputs": [
    {
     "name": "stdout",
     "output_type": "stream",
     "text": [
      "Alley\n",
      "None    1369\n",
      "Grvl      50\n",
      "Pave      41\n",
      "Name: count, dtype: int64\n"
     ]
    }
   ],
   "source": [
    "df['Alley'] = df['Alley'].fillna(\"None\")\n",
    "print(df['Alley'].value_counts(dropna=False))"
   ]
  },
  {
   "cell_type": "markdown",
   "id": "e57a4aaa",
   "metadata": {},
   "source": [
    "### Variable MSZoning\n",
    "MSZoning: Identifies the general zoning classification of the sale.\n",
    "\t\t\n",
    "       A\tAgriculture\n",
    "       C\tCommercial\n",
    "       FV\tFloating Village Residential\n",
    "       I\tIndustrial\n",
    "       RH\tResidential High Density\n",
    "       RL\tResidential Low Density\n",
    "       RP\tResidential Low Density Park \n",
    "       RM\tResidential Medium Density"
   ]
  },
  {
   "cell_type": "code",
   "execution_count": 16,
   "id": "f923bcdf",
   "metadata": {},
   "outputs": [
    {
     "name": "stdout",
     "output_type": "stream",
     "text": [
      "MSZoning\n",
      "RL         1151\n",
      "RM          218\n",
      "FV           65\n",
      "RH           16\n",
      "C (all)      10\n",
      "Name: count, dtype: int64\n"
     ]
    }
   ],
   "source": [
    "print(df['MSZoning'].value_counts(dropna=False))"
   ]
  }
 ],
 "metadata": {
  "kernelspec": {
   "display_name": ".venv",
   "language": "python",
   "name": "python3"
  },
  "language_info": {
   "codemirror_mode": {
    "name": "ipython",
    "version": 3
   },
   "file_extension": ".py",
   "mimetype": "text/x-python",
   "name": "python",
   "nbconvert_exporter": "python",
   "pygments_lexer": "ipython3",
   "version": "3.13.7"
  }
 },
 "nbformat": 4,
 "nbformat_minor": 5
}
