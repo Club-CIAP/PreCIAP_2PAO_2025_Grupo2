{
 "cells": [
  {
   "cell_type": "markdown",
   "id": "02387cd8",
   "metadata": {},
   "source": [
    "# Análisis Exploratorio"
   ]
  },
  {
   "cell_type": "code",
   "execution_count": 6,
   "id": "058b6e9e",
   "metadata": {},
   "outputs": [
    {
     "name": "stdout",
     "output_type": "stream",
     "text": [
      "The autoreload extension is already loaded. To reload it, use:\n",
      "  %reload_ext autoreload\n"
     ]
    }
   ],
   "source": [
    "%load_ext autoreload\n",
    "%autoreload 2"
   ]
  },
  {
   "cell_type": "code",
   "execution_count": 7,
   "id": "fbfcacb7",
   "metadata": {},
   "outputs": [],
   "source": [
    "import pandas as pd\n",
    "import matplotlib.pyplot as plt\n",
    "import seaborn as sns\n",
    "\n",
    "from housing_price_prediction.utils.paths import data_raw_dir\n",
    "from housing_price_prediction.utils.paths import data_interim_dir\n",
    "\n",
    "train_path = data_interim_dir() / \"train_cleaned.csv\"\n",
    "df = pd.read_csv(train_path)"
   ]
  },
  {
   "cell_type": "code",
   "execution_count": 8,
   "id": "08b6ae47",
   "metadata": {},
   "outputs": [
    {
     "name": "stdout",
     "output_type": "stream",
     "text": [
      "<class 'pandas.core.frame.DataFrame'>\n",
      "RangeIndex: 1458 entries, 0 to 1457\n",
      "Data columns (total 13 columns):\n",
      " #   Column        Non-Null Count  Dtype  \n",
      "---  ------        --------------  -----  \n",
      " 0   MSSubClass    1458 non-null   int64  \n",
      " 1   MSZoning      1458 non-null   object \n",
      " 2   LotFrontage   1458 non-null   float64\n",
      " 3   LotArea       1458 non-null   int64  \n",
      " 4   LotShape      1458 non-null   object \n",
      " 5   LandContour   1458 non-null   object \n",
      " 6   LotConfig     1458 non-null   object \n",
      " 7   LandSlope     1458 non-null   object \n",
      " 8   Neighborhood  1458 non-null   object \n",
      " 9   Condition1    1458 non-null   object \n",
      " 10  BldgType      1458 non-null   object \n",
      " 11  HouseStyle    1458 non-null   object \n",
      " 12  SalePrice     1458 non-null   int64  \n",
      "dtypes: float64(1), int64(3), object(9)\n",
      "memory usage: 148.2+ KB\n"
     ]
    }
   ],
   "source": [
    "df.info()"
   ]
  }
 ],
 "metadata": {
  "kernelspec": {
   "display_name": ".venv",
   "language": "python",
   "name": "python3"
  },
  "language_info": {
   "codemirror_mode": {
    "name": "ipython",
    "version": 3
   },
   "file_extension": ".py",
   "mimetype": "text/x-python",
   "name": "python",
   "nbconvert_exporter": "python",
   "pygments_lexer": "ipython3",
   "version": "3.13.7"
  }
 },
 "nbformat": 4,
 "nbformat_minor": 5
}
