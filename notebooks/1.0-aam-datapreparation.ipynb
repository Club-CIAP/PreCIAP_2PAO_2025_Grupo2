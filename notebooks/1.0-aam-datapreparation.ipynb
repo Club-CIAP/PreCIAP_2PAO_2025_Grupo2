{
 "cells": [
  {
   "cell_type": "markdown",
   "id": "45b8dc01",
   "metadata": {},
   "source": [
    "# 1.0 - Limpieza de datos: Notebook de Angie Alfonso\n",
    "En este notebook voy a trabajar la parte relacionada con la **estructura de la vivienda, su exterior y las calificaciones de calidad**.  \n",
    "El objetivo es dejar estas variables listas para el análisis y modelado, eliminando o corrigiendo valores nulos y asegurando que los tipos de datos sean los adecuados.\n"
   ]
  },
  {
   "cell_type": "code",
   "execution_count": 28,
   "id": "710553e0",
   "metadata": {},
   "outputs": [
    {
     "name": "stdout",
     "output_type": "stream",
     "text": [
      "The autoreload extension is already loaded. To reload it, use:\n",
      "  %reload_ext autoreload\n"
     ]
    }
   ],
   "source": [
    "# --- CONFIGURACIÓN INICIAL ---\n",
    "%load_ext autoreload\n",
    "%autoreload 2\n",
    "\n",
    "from housing_price_prediction.utils.paths import data_raw_dir\n",
    "import pandas as pd\n",
    "import numpy as np\n",
    "import seaborn as sns\n",
    "\n",
    "# Cargar dataset\n",
    "raw_data_path = data_raw_dir() / \"train.csv\"\n",
    "df_data_raw = pd.read_csv(raw_data_path)"
   ]
  },
  {
   "cell_type": "markdown",
   "id": "94b1ea27",
   "metadata": {},
   "source": [
    "## Selección de las columnas a trabajar\n",
    "\n",
    "Nos enfocaremos en las variables relacionadas con la **estructura**, **exterior** y **calidad** de las viviendas.  \n",
    "- `OverallQual`, `OverallCond`: calificación general de calidad y condición.  \n",
    "- `YearBuilt`, `YearRemodAdd`: año de construcción y remodelación.  \n",
    "- `RoofStyle`, `RoofMatl`: tipo y material del techo.  \n",
    "- `Exterior1st`, `Exterior2nd`: materiales exteriores principales.  \n",
    "- `MasVnrType`, `MasVnrArea`: tipo y área del recubrimiento de mampostería.  \n",
    "- `ExterQual`, `ExterCond`, `HeatingQC`: calidades y condiciones.  \n",
    "- `Foundation`, `Heating`, `CentralAir`, `Electrical`: estructura base, tipo de calefacción, aire acondicionado y sistema eléctrico.\n"
   ]
  },
  {
   "cell_type": "code",
   "execution_count": 29,
   "id": "8b4827c3",
   "metadata": {},
   "outputs": [],
   "source": [
    "cols = [\n",
    "    'OverallQual', 'OverallCond', 'YearBuilt', 'YearRemodAdd',\n",
    "    'RoofStyle', 'RoofMatl', 'Exterior1st', 'Exterior2nd',\n",
    "    'MasVnrType', 'MasVnrArea', 'ExterQual', 'ExterCond',\n",
    "    'Foundation', 'Heating', 'HeatingQC', 'CentralAir', 'Electrical'\n",
    "]\n",
    "\n",
    "#Creacion de un sub-dataframe para trabajar con las variables asignadas evitando modificar accidentalmente la data original\n",
    "df = df_data_raw[cols].copy()"
   ]
  },
  {
   "cell_type": "markdown",
   "id": "17bc5d21",
   "metadata": {},
   "source": [
    "## Exploración de los datos \n"
   ]
  },
  {
   "cell_type": "markdown",
   "id": "7edd91db",
   "metadata": {},
   "source": [
    "Revisión de los tipos de datos iniciales"
   ]
  },
  {
   "cell_type": "code",
   "execution_count": 30,
   "id": "4c27c649",
   "metadata": {},
   "outputs": [
    {
     "name": "stdout",
     "output_type": "stream",
     "text": [
      "<class 'pandas.core.frame.DataFrame'>\n",
      "RangeIndex: 1460 entries, 0 to 1459\n",
      "Data columns (total 17 columns):\n",
      " #   Column        Non-Null Count  Dtype  \n",
      "---  ------        --------------  -----  \n",
      " 0   OverallQual   1460 non-null   int64  \n",
      " 1   OverallCond   1460 non-null   int64  \n",
      " 2   YearBuilt     1460 non-null   int64  \n",
      " 3   YearRemodAdd  1460 non-null   int64  \n",
      " 4   RoofStyle     1460 non-null   object \n",
      " 5   RoofMatl      1460 non-null   object \n",
      " 6   Exterior1st   1460 non-null   object \n",
      " 7   Exterior2nd   1460 non-null   object \n",
      " 8   MasVnrType    588 non-null    object \n",
      " 9   MasVnrArea    1452 non-null   float64\n",
      " 10  ExterQual     1460 non-null   object \n",
      " 11  ExterCond     1460 non-null   object \n",
      " 12  Foundation    1460 non-null   object \n",
      " 13  Heating       1460 non-null   object \n",
      " 14  HeatingQC     1460 non-null   object \n",
      " 15  CentralAir    1460 non-null   object \n",
      " 16  Electrical    1459 non-null   object \n",
      "dtypes: float64(1), int64(4), object(12)\n",
      "memory usage: 194.0+ KB\n"
     ]
    }
   ],
   "source": [
    "df.info()"
   ]
  },
  {
   "cell_type": "markdown",
   "id": "3599d399",
   "metadata": {},
   "source": [
    "## Revisión de valores nulos \n"
   ]
  },
  {
   "cell_type": "markdown",
   "id": "10006ca1",
   "metadata": {},
   "source": [
    "Antes de dividir en variables categóricas y numéricas hago un conteo de nulos para entender qué columnas necesitan más atención."
   ]
  },
  {
   "cell_type": "code",
   "execution_count": 31,
   "id": "8a2bcc44",
   "metadata": {},
   "outputs": [
    {
     "data": {
      "text/plain": [
       "OverallQual       0\n",
       "OverallCond       0\n",
       "YearBuilt         0\n",
       "YearRemodAdd      0\n",
       "RoofStyle         0\n",
       "RoofMatl          0\n",
       "Exterior1st       0\n",
       "Exterior2nd       0\n",
       "MasVnrType      872\n",
       "MasVnrArea        8\n",
       "ExterQual         0\n",
       "ExterCond         0\n",
       "Foundation        0\n",
       "Heating           0\n",
       "HeatingQC         0\n",
       "CentralAir        0\n",
       "Electrical        1\n",
       "dtype: int64"
      ]
     },
     "execution_count": 31,
     "metadata": {},
     "output_type": "execute_result"
    }
   ],
   "source": [
    "# Contar cuántos valores nulos hay en cada columna\n",
    "df.isna().sum()"
   ]
  },
  {
   "cell_type": "markdown",
   "id": "bef18cae",
   "metadata": {},
   "source": [
    "# Análisis de variables categóricas \n"
   ]
  },
  {
   "cell_type": "code",
   "execution_count": 32,
   "id": "10292cb8",
   "metadata": {},
   "outputs": [
    {
     "data": {
      "text/html": [
       "<div>\n",
       "<style scoped>\n",
       "    .dataframe tbody tr th:only-of-type {\n",
       "        vertical-align: middle;\n",
       "    }\n",
       "\n",
       "    .dataframe tbody tr th {\n",
       "        vertical-align: top;\n",
       "    }\n",
       "\n",
       "    .dataframe thead th {\n",
       "        text-align: right;\n",
       "    }\n",
       "</style>\n",
       "<table border=\"1\" class=\"dataframe\">\n",
       "  <thead>\n",
       "    <tr style=\"text-align: right;\">\n",
       "      <th></th>\n",
       "      <th>MasVnrType</th>\n",
       "      <th>RoofStyle</th>\n",
       "      <th>RoofMatl</th>\n",
       "      <th>Exterior1st</th>\n",
       "      <th>Exterior2nd</th>\n",
       "      <th>Foundation</th>\n",
       "      <th>Heating</th>\n",
       "      <th>CentralAir</th>\n",
       "      <th>Electrical</th>\n",
       "      <th>ExterQual</th>\n",
       "      <th>ExterCond</th>\n",
       "      <th>HeatingQC</th>\n",
       "    </tr>\n",
       "  </thead>\n",
       "  <tbody>\n",
       "    <tr>\n",
       "      <th>0</th>\n",
       "      <td>BrkFace</td>\n",
       "      <td>Gable</td>\n",
       "      <td>CompShg</td>\n",
       "      <td>VinylSd</td>\n",
       "      <td>VinylSd</td>\n",
       "      <td>PConc</td>\n",
       "      <td>GasA</td>\n",
       "      <td>Y</td>\n",
       "      <td>SBrkr</td>\n",
       "      <td>Gd</td>\n",
       "      <td>TA</td>\n",
       "      <td>Ex</td>\n",
       "    </tr>\n",
       "    <tr>\n",
       "      <th>1</th>\n",
       "      <td>NaN</td>\n",
       "      <td>Gable</td>\n",
       "      <td>CompShg</td>\n",
       "      <td>MetalSd</td>\n",
       "      <td>MetalSd</td>\n",
       "      <td>CBlock</td>\n",
       "      <td>GasA</td>\n",
       "      <td>Y</td>\n",
       "      <td>SBrkr</td>\n",
       "      <td>TA</td>\n",
       "      <td>TA</td>\n",
       "      <td>Ex</td>\n",
       "    </tr>\n",
       "    <tr>\n",
       "      <th>2</th>\n",
       "      <td>BrkFace</td>\n",
       "      <td>Gable</td>\n",
       "      <td>CompShg</td>\n",
       "      <td>VinylSd</td>\n",
       "      <td>VinylSd</td>\n",
       "      <td>PConc</td>\n",
       "      <td>GasA</td>\n",
       "      <td>Y</td>\n",
       "      <td>SBrkr</td>\n",
       "      <td>Gd</td>\n",
       "      <td>TA</td>\n",
       "      <td>Ex</td>\n",
       "    </tr>\n",
       "    <tr>\n",
       "      <th>3</th>\n",
       "      <td>NaN</td>\n",
       "      <td>Gable</td>\n",
       "      <td>CompShg</td>\n",
       "      <td>Wd Sdng</td>\n",
       "      <td>Wd Shng</td>\n",
       "      <td>BrkTil</td>\n",
       "      <td>GasA</td>\n",
       "      <td>Y</td>\n",
       "      <td>SBrkr</td>\n",
       "      <td>TA</td>\n",
       "      <td>TA</td>\n",
       "      <td>Gd</td>\n",
       "    </tr>\n",
       "    <tr>\n",
       "      <th>4</th>\n",
       "      <td>BrkFace</td>\n",
       "      <td>Gable</td>\n",
       "      <td>CompShg</td>\n",
       "      <td>VinylSd</td>\n",
       "      <td>VinylSd</td>\n",
       "      <td>PConc</td>\n",
       "      <td>GasA</td>\n",
       "      <td>Y</td>\n",
       "      <td>SBrkr</td>\n",
       "      <td>Gd</td>\n",
       "      <td>TA</td>\n",
       "      <td>Ex</td>\n",
       "    </tr>\n",
       "  </tbody>\n",
       "</table>\n",
       "</div>"
      ],
      "text/plain": [
       "  MasVnrType RoofStyle RoofMatl Exterior1st Exterior2nd Foundation Heating  \\\n",
       "0    BrkFace     Gable  CompShg     VinylSd     VinylSd      PConc    GasA   \n",
       "1        NaN     Gable  CompShg     MetalSd     MetalSd     CBlock    GasA   \n",
       "2    BrkFace     Gable  CompShg     VinylSd     VinylSd      PConc    GasA   \n",
       "3        NaN     Gable  CompShg     Wd Sdng     Wd Shng     BrkTil    GasA   \n",
       "4    BrkFace     Gable  CompShg     VinylSd     VinylSd      PConc    GasA   \n",
       "\n",
       "  CentralAir Electrical ExterQual ExterCond HeatingQC  \n",
       "0          Y      SBrkr        Gd        TA        Ex  \n",
       "1          Y      SBrkr        TA        TA        Ex  \n",
       "2          Y      SBrkr        Gd        TA        Ex  \n",
       "3          Y      SBrkr        TA        TA        Gd  \n",
       "4          Y      SBrkr        Gd        TA        Ex  "
      ]
     },
     "execution_count": 32,
     "metadata": {},
     "output_type": "execute_result"
    }
   ],
   "source": [
    "cat_cols = [\n",
    "    'MasVnrType', 'RoofStyle', 'RoofMatl', 'Exterior1st', 'Exterior2nd',\n",
    "    'Foundation', 'Heating', 'CentralAir', 'Electrical',\n",
    "    'ExterQual', 'ExterCond', 'HeatingQC'\n",
    "]\n",
    "\n",
    "df[cat_cols].head()\n"
   ]
  },
  {
   "cell_type": "code",
   "execution_count": 33,
   "id": "6cef0122",
   "metadata": {},
   "outputs": [
    {
     "name": "stdout",
     "output_type": "stream",
     "text": [
      "<class 'pandas.core.frame.DataFrame'>\n",
      "RangeIndex: 1460 entries, 0 to 1459\n",
      "Data columns (total 12 columns):\n",
      " #   Column       Non-Null Count  Dtype \n",
      "---  ------       --------------  ----- \n",
      " 0   MasVnrType   588 non-null    object\n",
      " 1   RoofStyle    1460 non-null   object\n",
      " 2   RoofMatl     1460 non-null   object\n",
      " 3   Exterior1st  1460 non-null   object\n",
      " 4   Exterior2nd  1460 non-null   object\n",
      " 5   Foundation   1460 non-null   object\n",
      " 6   Heating      1460 non-null   object\n",
      " 7   CentralAir   1460 non-null   object\n",
      " 8   Electrical   1459 non-null   object\n",
      " 9   ExterQual    1460 non-null   object\n",
      " 10  ExterCond    1460 non-null   object\n",
      " 11  HeatingQC    1460 non-null   object\n",
      "dtypes: object(12)\n",
      "memory usage: 137.0+ KB\n"
     ]
    }
   ],
   "source": [
    "df[cat_cols].info()\n"
   ]
  },
  {
   "cell_type": "markdown",
   "id": "25cbe463",
   "metadata": {},
   "source": [
    "- Se observa que `MasVnrType`  tienen varios nulos y se asume que los NaNs en las columnas se deben a la ausencia de mampostería en la vivienda. Se determinó que para este caso una imputación por **'None'** para MasVnrType es la estrategia más adecuada, tratando el nulo como una ausencia intencional.\n",
    "\n"
   ]
  },
  {
   "cell_type": "markdown",
   "id": "0d8925b9",
   "metadata": {},
   "source": [
    "## Corregir MasVnrType "
   ]
  },
  {
   "cell_type": "code",
   "execution_count": 38,
   "id": "a67847c0",
   "metadata": {},
   "outputs": [
    {
     "name": "stdout",
     "output_type": "stream",
     "text": [
      "Distribución de MasVnrType antes de imputación:\n",
      "MasVnrType\n",
      "None       872\n",
      "BrkFace    445\n",
      "Stone      128\n",
      "BrkCmn      15\n",
      "Name: count, dtype: int64\n"
     ]
    }
   ],
   "source": [
    "print(\"Distribución de MasVnrType antes de imputación:\")\n",
    "print(df['MasVnrType'].value_counts(dropna=False))"
   ]
  },
  {
   "cell_type": "code",
   "execution_count": null,
   "id": "2abbca1e",
   "metadata": {},
   "outputs": [
    {
     "name": "stdout",
     "output_type": "stream",
     "text": [
      "\n",
      "Distribución de MasVnrType DESPUÉS de imputación:\n",
      "MasVnrType\n",
      "None       872\n",
      "BrkFace    445\n",
      "Stone      128\n",
      "BrkCmn      15\n",
      "Name: count, dtype: int64\n"
     ]
    }
   ],
   "source": [
    "#Imputar nulos de MasVnrType con 'None'\n",
    "df['MasVnrType'] = df['MasVnrType'].fillna('None')\n",
    "df.head()\n",
    "\n"
   ]
  },
  {
   "cell_type": "code",
   "execution_count": null,
   "id": "d88e3dab",
   "metadata": {},
   "outputs": [],
   "source": [
    "print(\"\\nDistribución de MasVnrType después de imputación:\")\n",
    "print(df['MasVnrType'].value_counts(dropna=False))"
   ]
  }
 ],
 "metadata": {
  "kernelspec": {
   "display_name": "housing_price_prediction",
   "language": "python",
   "name": "python3"
  },
  "language_info": {
   "codemirror_mode": {
    "name": "ipython",
    "version": 3
   },
   "file_extension": ".py",
   "mimetype": "text/x-python",
   "name": "python",
   "nbconvert_exporter": "python",
   "pygments_lexer": "ipython3",
   "version": "3.11.14"
  }
 },
 "nbformat": 4,
 "nbformat_minor": 5
}
